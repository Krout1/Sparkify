{
 "cells": [
  {
   "cell_type": "code",
   "execution_count": 20,
   "metadata": {},
   "outputs": [],
   "source": [
    "# import libraries\n",
    "from pyspark.sql import SparkSession\n",
    "from pyspark.sql.functions import avg, col, concat, desc, explode, lit, min, max, split, udf, sum\n",
    "from pyspark.sql.types import IntegerType\n",
    "from pyspark.sql import Window\n",
    "from pyspark.ml.feature import VectorAssembler\n",
    "from pyspark.ml.feature import StandardScaler\n",
    "from pyspark.ml.evaluation import MulticlassClassificationEvaluator\n",
    "from pyspark.ml.classification import LogisticRegression\n",
    "from pyspark.ml.tuning import CrossValidator, ParamGridBuilder\n",
    "from time import time\n",
    "import pandas as pd\n",
    "import datetime\n"
   ]
  },
  {
   "cell_type": "markdown",
   "metadata": {},
   "source": [
    "# Sparkify Project Workspace\n",
    "This workspace contains a tiny subset (128MB) of the full dataset available (12GB). Feel free to use this workspace to build your project, or to explore a smaller subset with Spark before deploying your cluster on the cloud. Instructions for setting up your Spark cluster is included in the last lesson of the Extracurricular Spark Course content.\n",
    "\n",
    "You can follow the steps below to guide your data analysis and model building portion of this project."
   ]
  },
  {
   "cell_type": "code",
   "execution_count": 21,
   "metadata": {},
   "outputs": [],
   "source": [
    "# create a Spark session\n",
    "spark = SparkSession.builder.getOrCreate()"
   ]
  },
  {
   "cell_type": "markdown",
   "metadata": {},
   "source": [
    "# Load and Clean Dataset\n",
    "In this workspace, the mini-dataset file is `mini_sparkify_event_data.json`. Load and clean the dataset, checking for invalid or missing data - for example, records without userids or sessionids. "
   ]
  },
  {
   "cell_type": "code",
   "execution_count": 22,
   "metadata": {},
   "outputs": [],
   "source": [
    "spark_data = spark.read.json('mini_sparkify_event_data.json')"
   ]
  },
  {
   "cell_type": "markdown",
   "metadata": {},
   "source": [
    "Get some insights aobout the data"
   ]
  },
  {
   "cell_type": "code",
   "execution_count": 23,
   "metadata": {},
   "outputs": [
    {
     "data": {
      "text/plain": [
       "[Row(artist='Martha Tilston', auth='Logged In', firstName='Colin', gender='M', itemInSession=50, lastName='Freeman', length=277.89016, level='paid', location='Bakersfield, CA', method='PUT', page='NextSong', registration=1538173362000, sessionId=29, song='Rockpools', status=200, ts=1538352117000, userAgent='Mozilla/5.0 (Windows NT 6.1; WOW64; rv:31.0) Gecko/20100101 Firefox/31.0', userId='30'),\n",
       " Row(artist='Five Iron Frenzy', auth='Logged In', firstName='Micah', gender='M', itemInSession=79, lastName='Long', length=236.09424, level='free', location='Boston-Cambridge-Newton, MA-NH', method='PUT', page='NextSong', registration=1538331630000, sessionId=8, song='Canada', status=200, ts=1538352180000, userAgent='\"Mozilla/5.0 (Windows NT 6.1; WOW64) AppleWebKit/537.36 (KHTML, like Gecko) Chrome/37.0.2062.103 Safari/537.36\"', userId='9')]"
      ]
     },
     "execution_count": 23,
     "metadata": {},
     "output_type": "execute_result"
    }
   ],
   "source": [
    "spark_data.take(2)"
   ]
  },
  {
   "cell_type": "code",
   "execution_count": null,
   "metadata": {},
   "outputs": [],
   "source": []
  },
  {
   "cell_type": "code",
   "execution_count": 24,
   "metadata": {},
   "outputs": [
    {
     "name": "stdout",
     "output_type": "stream",
     "text": [
      "root\n",
      " |-- artist: string (nullable = true)\n",
      " |-- auth: string (nullable = true)\n",
      " |-- firstName: string (nullable = true)\n",
      " |-- gender: string (nullable = true)\n",
      " |-- itemInSession: long (nullable = true)\n",
      " |-- lastName: string (nullable = true)\n",
      " |-- length: double (nullable = true)\n",
      " |-- level: string (nullable = true)\n",
      " |-- location: string (nullable = true)\n",
      " |-- method: string (nullable = true)\n",
      " |-- page: string (nullable = true)\n",
      " |-- registration: long (nullable = true)\n",
      " |-- sessionId: long (nullable = true)\n",
      " |-- song: string (nullable = true)\n",
      " |-- status: long (nullable = true)\n",
      " |-- ts: long (nullable = true)\n",
      " |-- userAgent: string (nullable = true)\n",
      " |-- userId: string (nullable = true)\n",
      "\n"
     ]
    }
   ],
   "source": [
    "spark_data.printSchema()"
   ]
  },
  {
   "cell_type": "code",
   "execution_count": 25,
   "metadata": {},
   "outputs": [
    {
     "data": {
      "text/plain": [
       "286500"
      ]
     },
     "execution_count": 25,
     "metadata": {},
     "output_type": "execute_result"
    }
   ],
   "source": [
    "spark_data.count()"
   ]
  },
  {
   "cell_type": "markdown",
   "metadata": {},
   "source": [
    "1. Drop invalid data without userId or sessionId\n",
    "2. Filter out empty userIds and sessionIds\n",
    "3. Check quality"
   ]
  },
  {
   "cell_type": "code",
   "execution_count": 5,
   "metadata": {},
   "outputs": [
    {
     "name": "stdout",
     "output_type": "stream",
     "text": [
      "+------+\n",
      "|userId|\n",
      "+------+\n",
      "|    10|\n",
      "|   100|\n",
      "|100001|\n",
      "|100002|\n",
      "|100003|\n",
      "|100004|\n",
      "|100005|\n",
      "|100006|\n",
      "|100007|\n",
      "|100008|\n",
      "+------+\n",
      "only showing top 10 rows\n",
      "\n"
     ]
    }
   ],
   "source": [
    "cleand_spark_data = spark_data.dropna(subset=['userId','sessionId'])\n",
    "cleand_spark_data = cleand_spark_data.filter(cleand_spark_data['userId'] != '')\n",
    "cleand_spark_data.select('userId').dropDuplicates().sort('userId').show(10)"
   ]
  },
  {
   "cell_type": "code",
   "execution_count": 6,
   "metadata": {},
   "outputs": [],
   "source": [
    "# add a time column\n",
    "convert_time = udf(lambda x: datetime.datetime.fromtimestamp(x / 1000.0).strftime(\"%Y-%m-%d %H:%M:%S\"))\n",
    "cleand_spark_data = cleand_spark_data.withColumn('event_time', convert_time('ts'))\n",
    "cleand_spark_data = cleand_spark_data.withColumn('registration_time', convert_time('registration'))"
   ]
  },
  {
   "cell_type": "code",
   "execution_count": 27,
   "metadata": {},
   "outputs": [
    {
     "data": {
      "text/plain": [
       "278154"
      ]
     },
     "execution_count": 27,
     "metadata": {},
     "output_type": "execute_result"
    }
   ],
   "source": [
    "cleand_spark_data.count()"
   ]
  },
  {
   "cell_type": "markdown",
   "metadata": {},
   "source": [
    "# Exploratory Data Analysis\n",
    "When you're working with the full dataset, perform EDA by loading a small subset of the data and doing basic manipulations within Spark. In this workspace, you are already provided a small subset of data you can explore.\n",
    "\n",
    "\n"
   ]
  },
  {
   "cell_type": "code",
   "execution_count": 7,
   "metadata": {},
   "outputs": [],
   "source": [
    "spark_data=cleand_spark_data"
   ]
  },
  {
   "cell_type": "markdown",
   "metadata": {},
   "source": [
    "### Explore Data\n",
    "Once you've defined churn, perform some exploratory data analysis to observe the behavior for users who stayed vs users who churned. You can start by exploring aggregates on these two groups of users, observing how much of a specific action they experienced per a certain time unit or number of songs played."
   ]
  },
  {
   "cell_type": "code",
   "execution_count": 8,
   "metadata": {},
   "outputs": [
    {
     "name": "stdout",
     "output_type": "stream",
     "text": [
      "+-----+\n",
      "|level|\n",
      "+-----+\n",
      "| free|\n",
      "| paid|\n",
      "+-----+\n",
      "\n"
     ]
    }
   ],
   "source": [
    "spark_data.select('level').distinct().show()"
   ]
  },
  {
   "cell_type": "code",
   "execution_count": 9,
   "metadata": {},
   "outputs": [
    {
     "name": "stdout",
     "output_type": "stream",
     "text": [
      "+--------------------+\n",
      "|            location|\n",
      "+--------------------+\n",
      "|     Gainesville, FL|\n",
      "|Atlantic City-Ham...|\n",
      "|Deltona-Daytona B...|\n",
      "|San Diego-Carlsba...|\n",
      "|Cleveland-Elyria, OH|\n",
      "|Kingsport-Bristol...|\n",
      "|New Haven-Milford...|\n",
      "|Birmingham-Hoover...|\n",
      "|  Corpus Christi, TX|\n",
      "|         Dubuque, IA|\n",
      "|Las Vegas-Henders...|\n",
      "|Indianapolis-Carm...|\n",
      "|Seattle-Tacoma-Be...|\n",
      "|          Albany, OR|\n",
      "|   Winston-Salem, NC|\n",
      "|     Bakersfield, CA|\n",
      "|Los Angeles-Long ...|\n",
      "|Minneapolis-St. P...|\n",
      "|San Francisco-Oak...|\n",
      "|Phoenix-Mesa-Scot...|\n",
      "+--------------------+\n",
      "only showing top 20 rows\n",
      "\n"
     ]
    }
   ],
   "source": [
    "\n",
    "spark_data.select('location').distinct().show()"
   ]
  },
  {
   "cell_type": "code",
   "execution_count": 10,
   "metadata": {},
   "outputs": [
    {
     "name": "stdout",
     "output_type": "stream",
     "text": [
      "+--------------------+\n",
      "|                page|\n",
      "+--------------------+\n",
      "|              Cancel|\n",
      "|    Submit Downgrade|\n",
      "|         Thumbs Down|\n",
      "|                Home|\n",
      "|           Downgrade|\n",
      "|         Roll Advert|\n",
      "|              Logout|\n",
      "|       Save Settings|\n",
      "|Cancellation Conf...|\n",
      "|               About|\n",
      "|            Settings|\n",
      "|     Add to Playlist|\n",
      "|          Add Friend|\n",
      "|            NextSong|\n",
      "|           Thumbs Up|\n",
      "|                Help|\n",
      "|             Upgrade|\n",
      "|               Error|\n",
      "|      Submit Upgrade|\n",
      "+--------------------+\n",
      "\n"
     ]
    }
   ],
   "source": [
    "spark_data.select('page').distinct().show(50)\n"
   ]
  },
  {
   "cell_type": "markdown",
   "metadata": {},
   "source": [
    "### Define Churn\n",
    "\n",
    "Once you've done some preliminary analysis, create a column `Churn` to use as the label for your model. I suggest using the `Cancellation Confirmation` events to define your churn, which happen for both paid and free users. As a bonus task, you can also look into the `Downgrade` events."
   ]
  },
  {
   "cell_type": "code",
   "execution_count": 12,
   "metadata": {},
   "outputs": [],
   "source": [
    "flag_churn_event = udf(lambda x: 1 if x == 'Cancellation Confirmation' else 0, IntegerType())\n",
    "flag_downgrade_event = udf(lambda x: 1 if x == \"Submit Downgrade\" else 0, IntegerType())\n",
    "\n",
    "spark_data = spark_data.withColumn(\"churn_event\", flag_churn_event(\"page\"))\n",
    "spark_data = spark_data.withColumn(\"downgrade_event\", flag_downgrade_event(\"page\"))\n"
   ]
  },
  {
   "cell_type": "code",
   "execution_count": 14,
   "metadata": {},
   "outputs": [
    {
     "name": "stdout",
     "output_type": "stream",
     "text": [
      "+-------+------------------+------------------+--------------------+\n",
      "|summary|            userId|  sum(churn_event)|sum(downgrade_event)|\n",
      "+-------+------------------+------------------+--------------------+\n",
      "|  count|               225|               225|                 225|\n",
      "|   mean|65391.013333333336|0.2311111111111111|                0.28|\n",
      "| stddev|105396.47791907164|0.4224832108996327|  0.5876709477736184|\n",
      "|    min|                10|                 0|                   0|\n",
      "|    max|                99|                 1|                   3|\n",
      "+-------+------------------+------------------+--------------------+\n",
      "\n"
     ]
    }
   ],
   "source": [
    "spark_data.select(['userId', 'churn_event', 'downgrade_event'])\\\n",
    "    .groupBy('userId').sum()\\\n",
    "    .withColumnRenamed('sum(downgrad)', 'downgrade_event')\\\n",
    "    .withColumnRenamed('sum(churn)', 'churn_event').describe().show()"
   ]
  },
  {
   "cell_type": "markdown",
   "metadata": {},
   "source": [
    "# Feature Engineering\n",
    "Once you've familiarized yourself with the data, build out the features you find promising to train your model on. To work with the full dataset, you can follow the following steps.\n",
    "- Write a script to extract the necessary features from the smaller subset of data\n",
    "- Ensure that your script is scalable, using the best practices discussed in Lesson 3\n",
    "- Try your script on the full data set, debugging your script if necessary\n",
    "\n",
    "If you are working in the classroom workspace, you can just extract features based on the small subset of data contained here. Be sure to transfer over this work to the larger dataset when you work on your Spark cluster."
   ]
  },
  {
   "cell_type": "code",
   "execution_count": 10,
   "metadata": {},
   "outputs": [
    {
     "name": "stdout",
     "output_type": "stream",
     "text": [
      "+-------+------------------+-----------------+\n",
      "|summary|            userID|      total_songs|\n",
      "+-------+------------------+-----------------+\n",
      "|  count|               225|              225|\n",
      "|   mean|65391.013333333336|          1236.24|\n",
      "| stddev|105396.47791907164|1329.531716432519|\n",
      "|    min|                10|                6|\n",
      "|    max|                99|             9632|\n",
      "+-------+------------------+-----------------+\n",
      "\n"
     ]
    }
   ],
   "source": [
    "# Total songs listened\n",
    "feature_1 = spark_data \\\n",
    "    .select('userID','song') \\\n",
    "    .groupBy('userID') \\\n",
    "    .count() \\\n",
    "    .withColumnRenamed('count', 'total_songs')\n",
    "feature_1.describe().show()"
   ]
  },
  {
   "cell_type": "code",
   "execution_count": 11,
   "metadata": {},
   "outputs": [
    {
     "name": "stdout",
     "output_type": "stream",
     "text": [
      "+-------+------------------+-----------------+\n",
      "|summary|            userID|     num_thumb_up|\n",
      "+-------+------------------+-----------------+\n",
      "|  count|               220|              220|\n",
      "|   mean| 66420.27727272727|            57.05|\n",
      "| stddev|106196.51156121881|65.67028650524044|\n",
      "|    min|                10|                1|\n",
      "|    max|                99|              437|\n",
      "+-------+------------------+-----------------+\n",
      "\n"
     ]
    }
   ],
   "source": [
    "# Sum Thumbs Up\n",
    "feature_2 = spark_data \\\n",
    "    .select('userID','page') \\\n",
    "    .where(spark_data.page == 'Thumbs Up') \\\n",
    "    .groupBy('userID') \\\n",
    "    .count() \\\n",
    "    .withColumnRenamed('count', 'num_thumb_up') \n",
    "feature_2.describe().show()"
   ]
  },
  {
   "cell_type": "code",
   "execution_count": 12,
   "metadata": {},
   "outputs": [
    {
     "name": "stdout",
     "output_type": "stream",
     "text": [
      "+-------+------------------+------------------+\n",
      "|summary|            userID|    num_thumb_down|\n",
      "+-------+------------------+------------------+\n",
      "|  count|               203|               203|\n",
      "|   mean| 66066.16256157635|12.541871921182265|\n",
      "| stddev|106108.32569893777|13.198108566983787|\n",
      "|    min|                10|                 1|\n",
      "|    max|                99|                75|\n",
      "+-------+------------------+------------------+\n",
      "\n"
     ]
    }
   ],
   "source": [
    "# Sum Thumbs Down\n",
    "feature_3 = spark_data \\\n",
    "    .select('userID','page') \\\n",
    "    .where(spark_data.page == 'Thumbs Down') \\\n",
    "    .groupBy('userID') \\\n",
    "    .count() \\\n",
    "    .withColumnRenamed('count', 'num_thumb_down') \n",
    "feature_3.describe().show()"
   ]
  },
  {
   "cell_type": "code",
   "execution_count": 13,
   "metadata": {},
   "outputs": [
    {
     "name": "stdout",
     "output_type": "stream",
     "text": [
      "+-------+------------------+-----------------+\n",
      "|summary|            userID|     num_playlist|\n",
      "+-------+------------------+-----------------+\n",
      "|  count|               215|              215|\n",
      "|   mean| 66103.63720930232|30.35348837209302|\n",
      "| stddev|106360.47999565038| 32.8520568555997|\n",
      "|    min|                10|                1|\n",
      "|    max|                99|              240|\n",
      "+-------+------------------+-----------------+\n",
      "\n"
     ]
    }
   ],
   "source": [
    "# Number of Songs in Playlist\n",
    "\n",
    "feature_4 = spark_data \\\n",
    "    .select('userID','page') \\\n",
    "    .where(spark_data.page == 'Add to Playlist') \\\n",
    "    .groupBy('userID') \\\n",
    "    .count() \\\n",
    "    .withColumnRenamed('count', 'num_playlist') \n",
    "feature_4.describe().show()"
   ]
  },
  {
   "cell_type": "code",
   "execution_count": 14,
   "metadata": {},
   "outputs": [
    {
     "name": "stdout",
     "output_type": "stream",
     "text": [
      "+-------+------------------+------------------+\n",
      "|summary|            userID|       num_friends|\n",
      "+-------+------------------+------------------+\n",
      "|  count|               206|               206|\n",
      "|   mean| 66076.91262135922|20.762135922330096|\n",
      "| stddev|106860.60517425007|20.646779074405007|\n",
      "|    min|                10|                 1|\n",
      "|    max|                99|               143|\n",
      "+-------+------------------+------------------+\n",
      "\n"
     ]
    }
   ],
   "source": [
    "# Number of added friends\n",
    "\n",
    "feature_5 = spark_data \\\n",
    "    .select('userID','page') \\\n",
    "    .where(spark_data.page == 'Add Friend') \\\n",
    "    .groupBy('userID') \\\n",
    "    .count() \\\n",
    "    .withColumnRenamed('count', 'num_friends') \n",
    "feature_5.describe().show()"
   ]
  },
  {
   "cell_type": "code",
   "execution_count": 15,
   "metadata": {},
   "outputs": [
    {
     "name": "stdout",
     "output_type": "stream",
     "text": [
      "+-------+------------------+------------------+\n",
      "|summary|            userID|       listen_time|\n",
      "+-------+------------------+------------------+\n",
      "|  count|               225|               225|\n",
      "|   mean|65391.013333333336|252558.32065155543|\n",
      "| stddev|105396.47791907164| 275396.4038847635|\n",
      "|    min|                10|         691.66884|\n",
      "|    max|                99|1991154.9155799907|\n",
      "+-------+------------------+------------------+\n",
      "\n"
     ]
    }
   ],
   "source": [
    "# Total duration of listening\n",
    "feature_6 = spark_data \\\n",
    "    .select('userID','length') \\\n",
    "    .groupBy('userID') \\\n",
    "    .sum() \\\n",
    "    .withColumnRenamed('sum(length)', 'listen_time')\n",
    "feature_6.describe().show()"
   ]
  },
  {
   "cell_type": "code",
   "execution_count": 16,
   "metadata": {},
   "outputs": [
    {
     "name": "stdout",
     "output_type": "stream",
     "text": [
      "+-------+------------------+-----------------+\n",
      "|summary|            userId| avg_songs_played|\n",
      "+-------+------------------+-----------------+\n",
      "|  count|               225|              225|\n",
      "|   mean|65391.013333333336|70.78971233958933|\n",
      "| stddev|105396.47791907164| 42.6153697543817|\n",
      "|    min|                10|              3.0|\n",
      "|    max|                99|286.6666666666667|\n",
      "+-------+------------------+-----------------+\n",
      "\n"
     ]
    }
   ],
   "source": [
    "# Number of songs listened per session\n",
    "\n",
    "feature_7 = spark_data.where('page == \"NextSong\"') \\\n",
    "    .groupby(['userId', 'sessionId']) \\\n",
    "    .count() \\\n",
    "    .groupby(['userId']) \\\n",
    "    .agg({'count':'avg'}) \\\n",
    "    .withColumnRenamed('avg(count)', 'avg_songs_played')\n",
    "feature_7.describe().show()"
   ]
  },
  {
   "cell_type": "code",
   "execution_count": 17,
   "metadata": {},
   "outputs": [
    {
     "name": "stdout",
     "output_type": "stream",
     "text": [
      "+-------+------------------+------------------+\n",
      "|summary|            userID|avg(itemInSession)|\n",
      "+-------+------------------+------------------+\n",
      "|  count|               225|               225|\n",
      "|   mean|65391.013333333336| 85.26612937155095|\n",
      "| stddev|105396.47791907164|58.099810332288286|\n",
      "|    min|                10|               2.5|\n",
      "|    max|                99| 383.1247511612475|\n",
      "+-------+------------------+------------------+\n",
      "\n"
     ]
    }
   ],
   "source": [
    "# Average items in session\n",
    "\n",
    "feature_8 = spark_data \\\n",
    "    .select('userID','itemInSession') \\\n",
    "    .groupBy('userID') \\\n",
    "    .avg() \\\n",
    "    .withColumnRenamed('avg(count)', 'avg_items_in_session')\n",
    "feature_8.describe().show()"
   ]
  },
  {
   "cell_type": "code",
   "execution_count": 18,
   "metadata": {},
   "outputs": [
    {
     "name": "stdout",
     "output_type": "stream",
     "text": [
      "+-------+------------------+-------------------+\n",
      "|summary|            userId|             gender|\n",
      "+-------+------------------+-------------------+\n",
      "|  count|               225|                225|\n",
      "|   mean|65391.013333333336| 0.4622222222222222|\n",
      "| stddev|105396.47791907165|0.49968243883744773|\n",
      "|    min|                10|                  0|\n",
      "|    max|                99|                  1|\n",
      "+-------+------------------+-------------------+\n",
      "\n"
     ]
    }
   ],
   "source": [
    "# Gender\n",
    "\n",
    "feature_9 = spark_data \\\n",
    "    .select(\"userId\", \"gender\") \\\n",
    "    .dropDuplicates() \\\n",
    "    .replace(['M', 'F'], ['0', '1'], 'gender') \\\n",
    "    .select('userId', col('gender').cast('int'))\n",
    "feature_9.describe().show()"
   ]
  },
  {
   "cell_type": "code",
   "execution_count": 19,
   "metadata": {},
   "outputs": [
    {
     "name": "stdout",
     "output_type": "stream",
     "text": [
      "+-------+------------------+-------------------+\n",
      "|summary|            userId|           lifetime|\n",
      "+-------+------------------+-------------------+\n",
      "|  count|               225|                225|\n",
      "|   mean|65391.013333333336|   79.8456834876543|\n",
      "| stddev|105396.47791907164|  37.66147001861254|\n",
      "|    min|                10|0.31372685185185184|\n",
      "|    max|                99|  256.3776736111111|\n",
      "+-------+------------------+-------------------+\n",
      "\n"
     ]
    }
   ],
   "source": [
    "# Time of spark_data\n",
    "feature_10 = spark_data \\\n",
    "    .select('userId','ts','registration') \\\n",
    "    .withColumn('lifetime',(spark_data.ts-spark_data.registration)) \\\n",
    "    .groupBy('userId') \\\n",
    "    .agg({'lifetime':'max'}) \\\n",
    "    .withColumnRenamed('max(lifetime)','lifetime') \\\n",
    "    .select('userId', (col('lifetime')/1000/3600/24).alias('lifetime'))\n",
    "feature_10.describe().show()\n"
   ]
  },
  {
   "cell_type": "code",
   "execution_count": 20,
   "metadata": {},
   "outputs": [
    {
     "name": "stdout",
     "output_type": "stream",
     "text": [
      "+-------+------------------+-----------------+\n",
      "|summary|            userId|       num_artist|\n",
      "+-------+------------------+-----------------+\n",
      "|  count|               225|              225|\n",
      "|   mean|65391.013333333336|696.3777777777777|\n",
      "| stddev|105396.47791907164|603.9518698630802|\n",
      "|    min|                10|                3|\n",
      "|    max|                99|             3544|\n",
      "+-------+------------------+-----------------+\n",
      "\n"
     ]
    }
   ],
   "source": [
    "# Number of artists listened\n",
    "feature_11 = spark_data \\\n",
    "    .filter(spark_data.page==\"NextSong\") \\\n",
    "    .select(\"userId\", \"artist\") \\\n",
    "    .dropDuplicates() \\\n",
    "    .groupby(\"userId\") \\\n",
    "    .count() \\\n",
    "    .withColumnRenamed(\"count\", \"num_artist\")\n",
    "feature_11.describe().show()"
   ]
  },
  {
   "cell_type": "code",
   "execution_count": 21,
   "metadata": {},
   "outputs": [
    {
     "name": "stdout",
     "output_type": "stream",
     "text": [
      "+-------+------------------+-----------------+\n",
      "|summary|            userId|         num_song|\n",
      "+-------+------------------+-----------------+\n",
      "|  count|               225|              225|\n",
      "|   mean|65391.013333333336|897.7911111111111|\n",
      "| stddev|105396.47791907164|896.3876044550344|\n",
      "|    min|                10|                3|\n",
      "|    max|                99|             5946|\n",
      "+-------+------------------+-----------------+\n",
      "\n"
     ]
    }
   ],
   "source": [
    "# Number of songs listened\n",
    "feature_12 = spark_data \\\n",
    "    .filter(spark_data.page==\"NextSong\") \\\n",
    "    .select(\"userId\", \"song\") \\\n",
    "    .dropDuplicates() \\\n",
    "    .groupby(\"userId\") \\\n",
    "    .count() \\\n",
    "    .withColumnRenamed(\"count\", \"num_song\")\n",
    "feature_12.describe().show()"
   ]
  },
  {
   "cell_type": "code",
   "execution_count": 22,
   "metadata": {},
   "outputs": [
    {
     "name": "stdout",
     "output_type": "stream",
     "text": [
      "+-------+------------------+-------------------+\n",
      "|summary|            userId|              label|\n",
      "+-------+------------------+-------------------+\n",
      "|  count|               277|                277|\n",
      "|   mean| 68285.25631768953|0.18772563176895307|\n",
      "| stddev|102130.86452660711|0.39119969301067525|\n",
      "|    min|                10|                  0|\n",
      "|    max|                99|                  1|\n",
      "+-------+------------------+-------------------+\n",
      "\n"
     ]
    }
   ],
   "source": [
    "# Churn class\n",
    "label = spark_data \\\n",
    "    .select('userId', col('churn_event').alias('label')) \\\n",
    "    .dropDuplicates()\n",
    "label.describe().show()"
   ]
  },
  {
   "cell_type": "code",
   "execution_count": 23,
   "metadata": {},
   "outputs": [
    {
     "name": "stdout",
     "output_type": "stream",
     "text": [
      "+-------+------------------+-------------------+\n",
      "|summary|            userId|          downgrade|\n",
      "+-------+------------------+-------------------+\n",
      "|  count|               274|                274|\n",
      "|   mean|  68303.1897810219|0.17883211678832117|\n",
      "| stddev|106082.31630429266| 0.3839128901757818|\n",
      "|    min|                10|                  0|\n",
      "|    max|                99|                  1|\n",
      "+-------+------------------+-------------------+\n",
      "\n"
     ]
    }
   ],
   "source": [
    "# downgrade_event class\n",
    "downgrade = spark_data \\\n",
    "    .select('userId', col('downgrade_event').alias('downgrade')) \\\n",
    "    .dropDuplicates()\n",
    "downgrade.describe().show()"
   ]
  },
  {
   "cell_type": "code",
   "execution_count": 24,
   "metadata": {},
   "outputs": [
    {
     "name": "stdout",
     "output_type": "stream",
     "text": [
      "+-----------+------------+--------------+------------+-----------+------------------+------------------+------------------+------+------------------+----------+--------+---------+-----+\n",
      "|total_songs|num_thumb_up|num_thumb_down|num_playlist|num_friends|       listen_time|  avg_songs_played|avg(itemInSession)|gender|          lifetime|num_artist|num_song|downgrade|label|\n",
      "+-----------+------------+--------------+------------+-----------+------------------+------------------+------------------+------+------------------+----------+--------+---------+-----+\n",
      "|        381|          17|             5|           7|          4| 66940.89735000003|39.285714285714285| 35.89501312335958|     1|  55.6436574074074|       252|     269|        0|    0|\n",
      "|        474|          21|             6|           8|          4| 94008.87593999993|              64.5| 60.57805907172996|     0| 70.07462962962963|       339|     378|        0|    0|\n",
      "|         11|           0|             0|           0|          0|2089.1131000000005|               8.0|               5.0|     0| 71.31688657407408|         8|       8|        0|    1|\n",
      "|         11|           0|             0|           0|          0|2089.1131000000005|               8.0|               5.0|     0| 71.31688657407408|         8|       8|        0|    0|\n",
      "|       4825|         171|            41|         118|         74|1012312.0927899999|145.67857142857142|165.09927461139895|     1|131.55591435185184|      2232|    3339|        0|    0|\n",
      "+-----------+------------+--------------+------------+-----------+------------------+------------------+------------------+------+------------------+----------+--------+---------+-----+\n",
      "only showing top 5 rows\n",
      "\n"
     ]
    }
   ],
   "source": [
    "# Put everything together\n",
    "\n",
    "features = feature_1.join(feature_2,'userID','outer') \\\n",
    "    .join(feature_3,'userID','outer') \\\n",
    "    .join(feature_4,'userID','outer') \\\n",
    "    .join(feature_5,'userID','outer') \\\n",
    "    .join(feature_6,'userID','outer') \\\n",
    "    .join(feature_7,'userID','outer') \\\n",
    "    .join(feature_8,'userID','outer') \\\n",
    "    .join(feature_9,'userID','outer') \\\n",
    "    .join(feature_10,'userID','outer') \\\n",
    "    .join(feature_11,'userID','outer') \\\n",
    "    .join(feature_12,'userID','outer') \\\n",
    "    .join(downgrade,'userID','outer') \\\n",
    "    .join(label,'userID','outer') \\\n",
    "    .drop('userID') \\\n",
    "    .fillna(0)\n",
    "\n",
    "features.show(5)"
   ]
  },
  {
   "cell_type": "markdown",
   "metadata": {},
   "source": [
    "# Modeling\n",
    "Split the full dataset into train, test, and validation sets. Test out several of the machine learning methods you learned. Evaluate the accuracy of the various models, tuning parameters as necessary. Determine your winning model based on test accuracy and report results on the validation set. Since the churned users are a fairly small subset, I suggest using F1 score as the metric to optimize."
   ]
  },
  {
   "cell_type": "code",
   "execution_count": 25,
   "metadata": {},
   "outputs": [],
   "source": [
    "columns = ['total_songs','num_thumb_up','num_thumb_down','num_playlist','num_friends','listen_time','avg_songs_played',\\\n",
    "           'avg(itemInSession)','gender','lifetime','num_artist','num_song','downgrade','label']\n",
    "\n",
    "assembler = VectorAssembler(inputCols=columns, outputCol=\"NumFeatures\")\n",
    "features = assembler.transform(features)\n"
   ]
  },
  {
   "cell_type": "code",
   "execution_count": 26,
   "metadata": {},
   "outputs": [
    {
     "data": {
      "text/plain": [
       "Row(total_songs=381, num_thumb_up=17, num_thumb_down=5, num_playlist=7, num_friends=4, listen_time=66940.89735000003, avg_songs_played=39.285714285714285, avg(itemInSession)=35.89501312335958, gender=1, lifetime=55.6436574074074, num_artist=252, num_song=269, downgrade=0, label=0, NumFeatures=DenseVector([381.0, 17.0, 5.0, 7.0, 4.0, 66940.8974, 39.2857, 35.895, 1.0, 55.6437, 252.0, 269.0, 0.0, 0.0]))"
      ]
     },
     "execution_count": 26,
     "metadata": {},
     "output_type": "execute_result"
    }
   ],
   "source": [
    "features.head()"
   ]
  },
  {
   "cell_type": "code",
   "execution_count": 27,
   "metadata": {},
   "outputs": [
    {
     "name": "stdout",
     "output_type": "stream",
     "text": [
      "+-----------+------------+--------------+------------+-----------+------------------+------------------+------------------+------+------------------+----------+--------+---------+-----+--------------------+--------------------+\n",
      "|total_songs|num_thumb_up|num_thumb_down|num_playlist|num_friends|       listen_time|  avg_songs_played|avg(itemInSession)|gender|          lifetime|num_artist|num_song|downgrade|label|         NumFeatures|            features|\n",
      "+-----------+------------+--------------+------------+-----------+------------------+------------------+------------------+------+------------------+----------+--------+---------+-----+--------------------+--------------------+\n",
      "|        381|          17|             5|           7|          4| 66940.89735000003|39.285714285714285| 35.89501312335958|     1|  55.6436574074074|       252|     269|        0|    0|[381.0,17.0,5.0,7...|[-0.6640027717640...|\n",
      "|        474|          21|             6|           8|          4| 94008.87593999993|              64.5| 60.57805907172996|     0| 70.07462962962963|       339|     378|        0|    0|[474.0,21.0,6.0,8...|[-0.5979388048157...|\n",
      "|         11|           0|             0|           0|          0|2089.1131000000005|               8.0|               5.0|     0| 71.31688657407408|         8|       8|        0|    1|(14,[0,5,6,7,9,10...|[-0.9268379090850...|\n",
      "|         11|           0|             0|           0|          0|2089.1131000000005|               8.0|               5.0|     0| 71.31688657407408|         8|       8|        0|    0|(14,[0,5,6,7,9,10...|[-0.9268379090850...|\n",
      "|       4825|         171|            41|         118|         74|1012312.0927899999|145.67857142857142|165.09927461139895|     1|131.55591435185184|      2232|    3339|        0|    0|[4825.0,171.0,41....|[2.49286033703200...|\n",
      "|       2464|         100|            21|          52|         28| 523275.8428000004|             211.1|200.60349025974025|     0|19.455844907407407|      1385|    1854|        0|    1|[2464.0,100.0,21....|[0.81568801482962...|\n",
      "|       2464|         100|            21|          52|         28| 523275.8428000004|             211.1|200.60349025974025|     0|19.455844907407407|      1385|    1854|        0|    0|[2464.0,100.0,21....|[0.81568801482962...|\n",
      "|        201|           7|             1|           5|          1| 38034.08710000002|21.428571428571427| 27.82587064676617|     0| 72.77818287037037|       142|     148|        0|    0|[201.0,7.0,1.0,5....|[-0.7918685142444...|\n",
      "|       2278|          81|            14|          59|         31|477307.60581000015|136.71428571428572|116.01185250219491|     0|56.513576388888886|      1302|    1707|        0|    0|[2278.0,81.0,14.0...|[0.68356008093312...|\n",
      "|       3437|         163|            29|          72|         33| 711344.9195400011| 81.17142857142858|113.98661623508875|     1|110.75168981481481|      1744|    2414|        0|    0|[3437.0,163.0,29....|[1.50687338946025...|\n",
      "|       3437|         163|            29|          72|         33| 711344.9195400011| 81.17142857142858|113.98661623508875|     1|110.75168981481481|      1744|    2414|        0|    1|[3437.0,163.0,29....|[1.50687338946025...|\n",
      "|       3437|         163|            29|          72|         33| 711344.9195400011| 81.17142857142858|113.98661623508875|     1|110.75168981481481|      1744|    2414|        1|    0|[3437.0,163.0,29....|[1.50687338946025...|\n",
      "|       3437|         163|            29|          72|         33| 711344.9195400011| 81.17142857142858|113.98661623508875|     1|110.75168981481481|      1744|    2414|        1|    1|[3437.0,163.0,29....|[1.50687338946025...|\n",
      "|       1002|          58|             3|          24|         11|       198779.2919|136.66666666666666| 120.1566866267465|     1|23.556018518518517|       643|     759|        0|    0|[1002.0,58.0,3.0,...|[-0.2228659602063...|\n",
      "|        310|          17|             3|           7|          6| 67703.47208000004|42.833333333333336|34.538709677419355|     0| 85.08340277777778|       233|     248|        0|    1|[310.0,17.0,3.0,7...|[-0.7144387035201...|\n",
      "|        310|          17|             3|           7|          6| 67703.47208000004|42.833333333333336|34.538709677419355|     0| 85.08340277777778|       233|     248|        0|    0|[310.0,17.0,3.0,7...|[-0.7144387035201...|\n",
      "|       2304|          96|            17|          38|         41| 483118.9038399997|             120.5|138.03472222222223|     1|  66.8891087962963|      1299|    1718|        0|    0|[2304.0,96.0,17.0...|[0.70202957706919...|\n",
      "|        118|          11|             0|           1|          3|20660.023910000007|              28.0| 26.56779661016949|     1|23.872037037037035|        78|      83|        0|    0|[118.0,11.0,0.0,1...|[-0.8508288288327...|\n",
      "|       2149|          86|            16|          61|         29| 447464.0146699989|             179.7|259.66775244299674|     0|53.965937499999995|      1241|    1608|        0|    1|[2149.0,86.0,16.0...|[0.59192296548877...|\n",
      "|       2149|          86|            16|          61|         29| 447464.0146699989|             179.7|259.66775244299674|     0|53.965937499999995|      1241|    1608|        0|    0|[2149.0,86.0,16.0...|[0.59192296548877...|\n",
      "+-----------+------------+--------------+------------+-----------+------------------+------------------+------------------+------+------------------+----------+--------+---------+-----+--------------------+--------------------+\n",
      "only showing top 20 rows\n",
      "\n"
     ]
    }
   ],
   "source": [
    "#Scale Data\n",
    "scaler = StandardScaler(inputCol=\"NumFeatures\", outputCol=\"features\", withStd=True, withMean=True)\n",
    "scalerModel = scaler.fit(features)\n",
    "features = scalerModel.transform(features)\n",
    "features.show()"
   ]
  },
  {
   "cell_type": "code",
   "execution_count": 28,
   "metadata": {},
   "outputs": [],
   "source": [
    "train_data, test_data = features.randomSplit([0.6, 0.3], seed=135)"
   ]
  },
  {
   "cell_type": "markdown",
   "metadata": {},
   "source": [
    "## First we try out a couple of models\n",
    "\n",
    "Remember, our aim is to maximize F1-Score."
   ]
  },
  {
   "cell_type": "markdown",
   "metadata": {},
   "source": [
    "### Logistic Regression"
   ]
  },
  {
   "cell_type": "code",
   "execution_count": 29,
   "metadata": {},
   "outputs": [
    {
     "name": "stdout",
     "output_type": "stream",
     "text": [
      "Training time: 626.6350929737091 s\n",
      "F-1 Score:0.7040293040293041\n",
      "Accuracy: 0.7948717948717948\n"
     ]
    }
   ],
   "source": [
    "paramGrid = ParamGridBuilder().build()\n",
    "\n",
    "evaluator_f1 = MulticlassClassificationEvaluator(labelCol=\"label\", predictionCol=\"prediction\", metricName=\"f1\")\n",
    "\n",
    "lr = LogisticRegression(maxIter=10, regParam=0.3, elasticNetParam=0.8,family=\"multinomial\")\n",
    "\n",
    "\n",
    "crossval_lr = CrossValidator(estimator=lr,\n",
    "                          evaluator=evaluator_f1, \n",
    "                          estimatorParamMaps=paramGrid,\n",
    "                          numFolds=2)\n",
    "start = time()\n",
    "cvModel_lr = crossval_lr.fit(train_data)\n",
    "end = time()\n",
    "print('Training time: {} s'.format(end - start))\n",
    "results_lr = cvModel_lr.transform(test_data)\n",
    "print('F-1 Score:{}'.format(evaluator_f1.evaluate(results_lr, {evaluator_f1.metricName: \"f1\"})))\n",
    "print('Accuracy: {}'.format(evaluator_f1.evaluate(results_lr, {evaluator_f1.metricName: \"accuracy\"})))"
   ]
  },
  {
   "cell_type": "markdown",
   "metadata": {},
   "source": [
    "### Random Forest"
   ]
  },
  {
   "cell_type": "code",
   "execution_count": 36,
   "metadata": {},
   "outputs": [
    {
     "name": "stdout",
     "output_type": "stream",
     "text": [
      "Training time: 566.9699819087982 s\n",
      "F-1 Score:0.7856481408817666\n"
     ]
    }
   ],
   "source": [
    "from pyspark.ml.regression import RandomForestRegressor\n",
    "rf = RandomForestRegressor()\n",
    "crossval_rf = CrossValidator(estimator=rf,\n",
    "                          evaluator=evaluator_f1, \n",
    "                          estimatorParamMaps=paramGrid,\n",
    "                          numFolds=2)\n",
    "start = time()\n",
    "cvModel_rf = crossval_rf.fit(train_data)\n",
    "end = time()\n",
    "print('Training time: {} s'.format(end - start))\n",
    "results_rf = cvModel_rf.transform(test_data)\n",
    "print('F-1 Score:{}'.format(evaluator_f1.evaluate(results_rf, {evaluator_f1.metricName: \"f1\"})))"
   ]
  },
  {
   "cell_type": "markdown",
   "metadata": {},
   "source": [
    "# Final Steps\n",
    "Clean up your code, adding comments and renaming variables to make the code easier to read and maintain. Refer to the Spark Project Overview page and Data Scientist Capstone Project Rubric to make sure you are including all components of the capstone project and meet all expectations. Remember, this includes thorough documentation in a README file in a Github repository, as well as a web app or blog post."
   ]
  },
  {
   "cell_type": "code",
   "execution_count": null,
   "metadata": {},
   "outputs": [],
   "source": []
  }
 ],
 "metadata": {
  "kernelspec": {
   "display_name": "Python 3",
   "language": "python",
   "name": "python3"
  },
  "language_info": {
   "codemirror_mode": {
    "name": "ipython",
    "version": 3
   },
   "file_extension": ".py",
   "mimetype": "text/x-python",
   "name": "python",
   "nbconvert_exporter": "python",
   "pygments_lexer": "ipython3",
   "version": "3.6.3"
  }
 },
 "nbformat": 4,
 "nbformat_minor": 2
}
